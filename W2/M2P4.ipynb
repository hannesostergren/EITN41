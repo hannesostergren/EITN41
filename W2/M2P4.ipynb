{
 "cells": [
  {
   "cell_type": "code",
   "execution_count": 12,
   "metadata": {},
   "outputs": [
    {
     "name": "stdout",
     "output_type": "stream",
     "text": [
      "5\n"
     ]
    }
   ],
   "source": [
    "import hashlib\n",
    "import matplotlib.pyplot as plt\n",
    "write_file = open(\"output\", \"w\")\n",
    "read_file = open(\"output\", \"r\")\n",
    "\n",
    "def commit(v, k, x):\n",
    "    v = v.to_bytes(16, \"big\")\n",
    "    k = k.to_bytes(16, \"big\")\n",
    "    hash = hashlib.md5(v + k).hexdigest()\n",
    "    trunc = hash[:x]\n",
    "    return trunc\n",
    "\n",
    "def write_to_file():\n",
    "    v = range(2)\n",
    "    k = range(2**16-1)\n",
    "    x = 1\n",
    "    res = []\n",
    "    for i in k:\n",
    "        for j in v:\n",
    "            res = commit(j, i, x)\n",
    "            write_file.write(res)\n",
    "            if j == 0: write_file.write(\", \")\n",
    "        write_file.write(\"\\n\")\n",
    "\n",
    "\n",
    "def calc_prob():\n",
    "    for line in read_file.readlines():\n",
    "        line[]\n",
    "\n",
    "if __name__ == \"__main__\":\n",
    "    write_to_file()\n",
    "    calc_prob()\n"
   ]
  }
 ],
 "metadata": {
  "kernelspec": {
   "display_name": "Python 3.8.10 64-bit",
   "language": "python",
   "name": "python3"
  },
  "language_info": {
   "codemirror_mode": {
    "name": "ipython",
    "version": 3
   },
   "file_extension": ".py",
   "mimetype": "text/x-python",
   "name": "python",
   "nbconvert_exporter": "python",
   "pygments_lexer": "ipython3",
   "version": "3.8.10"
  },
  "orig_nbformat": 4,
  "vscode": {
   "interpreter": {
    "hash": "916dbcbb3f70747c44a77c7bcd40155683ae19c65e1c03b4aa3499c5328201f1"
   }
  }
 },
 "nbformat": 4,
 "nbformat_minor": 2
}
